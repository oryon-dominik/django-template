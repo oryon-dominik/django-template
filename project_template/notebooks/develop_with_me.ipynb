{
 "cells": [
  {
   "cell_type": "code",
   "execution_count": null,
   "metadata": {},
   "outputs": [],
   "source": [
    "# 1. DJANGO_ALLOW_ASYNC_UNSAFE is set to true in the dotenvs ('envs/develop.env')\n",
    "# 2. Run the notebook server in the background with `python mange.py shell_plus --notebook`\n",
    "# 3. (in vscode) -> Select Kernel -> Existing Jupyter Server -> Enter the URL of the running Jupyter server (the notebook server url you just started) -> Django Shell Plus\n",
    "# 4. Execute this cell to cd into the project root dir and have access to all the project modules\n",
    "\n",
    "from pathlib import Path\n",
    "from django.conf import settings\n",
    "\n",
    "while not Path.cwd() == settings.ROOT_DIR:\n",
    "    parent = Path.cwd().parent\n",
    "    %cd $parent\n"
   ]
  },
  {
   "cell_type": "code",
   "execution_count": null,
   "metadata": {},
   "outputs": [],
   "source": [
    "# from config import ...\n",
    "# from apps.yourapp import ...\n"
   ]
  }
 ],
 "metadata": {
  "language_info": {
   "name": "python"
  },
  "orig_nbformat": 4
 },
 "nbformat": 4,
 "nbformat_minor": 2
}
