{
 "cells": [
  {
   "attachments": {},
   "cell_type": "markdown",
   "metadata": {},
   "source": [
    "# Develop with me\n",
    "\n",
    "_a notebook to help you develop directly in this interactive notebook with access to all django models and stuff_  \n",
    "preconditions:  \n",
    "\n",
    "1. DJANGO_ALLOW_ASYNC_UNSAFE is set to true in the dotenvs ('envs/develop.env'). This is the default.\n",
    "\n",
    "2. Run the notebook server in the background with `python mange.py shell_plus --notebook` or (if you aliased `commands.py`) just `cc nb`\n",
    "\n",
    "3. Open this notebook in `vscode`  \n",
    "   -> Select Kernel  \n",
    "   -> Existing Jupyter Server  \n",
    "   -> Enter the URL of the running Jupyter server (the notebook server url you just started)  \n",
    "   -> Django Shell Plus  \n",
    "\n",
    "   Alternatively, you can open this notebook in the `browser` directly.  \n",
    "   (not recommended, because you will loose all the pretty vscode IntelliSense features)\n",
    "\n",
    "4. Execute the `next cell` to `cd` into the project's `root dir` and have access to all the project modules\n"
   ]
  },
  {
   "cell_type": "code",
   "execution_count": null,
   "metadata": {},
   "outputs": [],
   "source": [
    "from pathlib import Path\n",
    "from django.conf import settings\n",
    "\n",
    "while not Path.cwd() == settings.ROOT_DIR:\n",
    "    parent = Path.cwd().parent\n",
    "    %cd $parent"
   ]
  },
  {
   "cell_type": "code",
   "execution_count": null,
   "metadata": {},
   "outputs": [],
   "source": [
    "# from config import ...\n",
    "# from apps.yourapp import ..."
   ]
  }
 ],
 "metadata": {
  "language_info": {
   "name": "python"
  },
  "orig_nbformat": 4
 },
 "nbformat": 4,
 "nbformat_minor": 2
}
