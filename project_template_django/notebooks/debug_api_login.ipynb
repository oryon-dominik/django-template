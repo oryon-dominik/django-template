{
 "cells": [
  {
   "cell_type": "markdown",
   "metadata": {},
   "source": [
    "# Debugging Notbook\n",
    "If the debugger is attached, we can use the debugger to touch vscode debug points, when calling routes."
   ]
  },
  {
   "cell_type": "code",
   "execution_count": null,
   "metadata": {},
   "outputs": [],
   "source": [
    "import httpx\n",
    "import environ\n",
    "import importlib\n",
    "from pathlib import Path\n",
    "from rich import print"
   ]
  },
  {
   "cell_type": "code",
   "execution_count": null,
   "metadata": {},
   "outputs": [],
   "source": [
    "# ! Set the environment mode you want to use here\n",
    "# MODE = \"production\"\n",
    "MODE = \"develop\""
   ]
  },
  {
   "cell_type": "code",
   "execution_count": null,
   "metadata": {},
   "outputs": [],
   "source": [
    "# parent directory cwd for incomplicated module level imports\n",
    "while not (Path.cwd() / \"manage.py\").exists():\n",
    "    parent = Path.cwd().parent\n",
    "    %cd $parent\n",
    "\n",
    "from core.setup import setup_django_settings\n",
    "\n",
    "# load environment variables depending on mode\n",
    "setup_django_settings(mode=MODE)\n",
    "from django.conf import settings\n",
    "HOST = settings.PROJECT_FQDN"
   ]
  },
  {
   "cell_type": "code",
   "execution_count": null,
   "metadata": {},
   "outputs": [],
   "source": [
    "# load urls routes..\n",
    "from io import StringIO\n",
    "\n",
    "output = StringIO()\n",
    "from django.core.management import call_command\n",
    "\n",
    "_ = call_command(\"show_urls\", stdout=output)  # from django_extensions.management.commands import show_urls\n",
    "\n",
    "urls = []\n",
    "for string in output.getvalue().split(\"\\n\"):\n",
    "    route, *_ = string.split(\"\\t\")\n",
    "    if not route.startswith(\"/_\") and \"<path>\" not in route:\n",
    "        urls.append(f\"{HOST}{route}\")\n",
    "urls = list(set(urls))"
   ]
  },
  {
   "cell_type": "code",
   "execution_count": null,
   "metadata": {},
   "outputs": [],
   "source": [
    "# create a user\n",
    "email = \"user@example.com\"\n",
    "password = \"secret\"\n",
    "delete_all_existing = False\n",
    "\n",
    "from django.contrib.auth import get_user_model\n",
    "from django.db import IntegrityError\n",
    "\n",
    "UserModel = get_user_model()\n",
    "from asgiref.sync import sync_to_async\n",
    "\n",
    "\n",
    "def create_user(email, password, delete_all_existing: bool = False):\n",
    "    if delete_all_existing:\n",
    "        UserModel.objects.all().delete()\n",
    "    try:\n",
    "        user = UserModel.objects.create(username=email, email=email)\n",
    "    except IntegrityError:\n",
    "        user = UserModel.objects.get(email=email)\n",
    "    user.set_password(password)\n",
    "    user.save()\n",
    "    return user\n",
    "\n",
    "\n",
    "user = await sync_to_async(create_user)(email, password, delete_all_existing=delete_all_existing)\n"
   ]
  },
  {
   "cell_type": "code",
   "execution_count": 5,
   "metadata": {},
   "outputs": [
    {
     "data": {
      "text/html": [
       "<pre style=\"white-space:pre;overflow-x:auto;line-height:normal;font-family:Menlo,'DejaVu Sans Mono',consolas,'Courier New',monospace\"><span style=\"font-weight: bold\">[</span>\n",
       "    <span style=\"color: #008000; text-decoration-color: #008000\">'http://localhost:8000/api/protected/'</span>,\n",
       "    <span style=\"color: #008000; text-decoration-color: #008000\">'http://localhost:8000'</span>,\n",
       "    <span style=\"color: #008000; text-decoration-color: #008000\">'http://localhost:8000/api/auth/token/'</span>,\n",
       "    <span style=\"color: #008000; text-decoration-color: #008000\">'http://localhost:8000/api/'</span>\n",
       "<span style=\"font-weight: bold\">]</span>\n",
       "</pre>\n"
      ],
      "text/plain": [
       "\u001b[1m[\u001b[0m\n",
       "    \u001b[32m'http://localhost:8000/api/protected/'\u001b[0m,\n",
       "    \u001b[32m'http://localhost:8000'\u001b[0m,\n",
       "    \u001b[32m'http://localhost:8000/api/auth/token/'\u001b[0m,\n",
       "    \u001b[32m'http://localhost:8000/api/'\u001b[0m\n",
       "\u001b[1m]\u001b[0m\n"
      ]
     },
     "metadata": {},
     "output_type": "display_data"
    }
   ],
   "source": [
    "# all the urls available for django\n",
    "print(urls)"
   ]
  },
  {
   "cell_type": "code",
   "execution_count": null,
   "metadata": {},
   "outputs": [],
   "source": [
    "# if the authentication app is installed, we can login\n",
    "url = [url for url in urls if \"auth/token\" in url][0]  # login\n",
    "\n",
    "r = httpx.post(url, json={\"email\": email, \"password\": password})\n",
    "print(f\"{url} - {r.status_code}\")"
   ]
  },
  {
   "cell_type": "code",
   "execution_count": null,
   "metadata": {},
   "outputs": [],
   "source": [
    "print(r.json())\n",
    "print(r.cookies)"
   ]
  }
 ],
 "metadata": {
  "kernelspec": {
   "display_name": "djangoauth-dGSBwlqO-py3.11",
   "language": "python",
   "name": "python3"
  },
  "language_info": {
   "codemirror_mode": {
    "name": "ipython",
    "version": 3
   },
   "file_extension": ".py",
   "mimetype": "text/x-python",
   "name": "python",
   "nbconvert_exporter": "python",
   "pygments_lexer": "ipython3",
   "version": "3.11.1 (tags/v3.11.1:a7a450f, Dec  6 2022, 19:58:39) [MSC v.1934 64 bit (AMD64)]"
  },
  "orig_nbformat": 4,
  "vscode": {
   "interpreter": {
    "hash": "b46c44dea17b411a6e7eef7cae3e827b42c0dab497623cb2945bebcab9fcd1a7"
   }
  }
 },
 "nbformat": 4,
 "nbformat_minor": 2
}
