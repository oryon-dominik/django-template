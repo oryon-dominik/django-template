{
 "cells": [
  {
   "cell_type": "code",
   "execution_count": null,
   "metadata": {},
   "outputs": [],
   "source": [
    "from pathlib import Path\n",
    "\n",
    "while not (Path.cwd() / \"manage.py\").exists():\n",
    "    parent = Path.cwd().parent\n",
    "    %cd $parent\n",
    "\n",
    "# For access to django settings..\n",
    "# from core.setup import setup_django_settings\n",
    "# setup_django_settings(mode='develop')\n",
    "# from django.conf import settings"
   ]
  },
  {
   "cell_type": "code",
   "execution_count": null,
   "metadata": {},
   "outputs": [],
   "source": [
    "from rich import print\n",
    "\n",
    "import psycopg\n",
    "import environs"
   ]
  },
  {
   "cell_type": "code",
   "execution_count": null,
   "metadata": {},
   "outputs": [],
   "source": [
    "env = environs.Env()\n",
    "env.read_env(\"envs/develop.env\")"
   ]
  },
  {
   "cell_type": "code",
   "execution_count": null,
   "metadata": {},
   "outputs": [],
   "source": [
    "POSTGRES_DB = env.str(\"POSTGRES_DB\")\n",
    "POSTGRES_USER = env.str(\"POSTGRES_USER\")\n",
    "POSTGRES_PASSWORD = env.str(\"POSTGRES_PASSWORD\")\n",
    "POSTGRES_HOST = env.str(\"POSTGRES_HOST\")\n",
    "POSTGRES_PORT = env.int(\"POSTGRES_PORT\")\n",
    "POSTGRES_OPTIONS = env.str(\"POSTGRES_OPTIONS\")\n",
    "POSTGRES_CONNECTION_STRING = f\"postgresql://{POSTGRES_USER}:{POSTGRES_PASSWORD}@{POSTGRES_HOST}:{POSTGRES_PORT}/{POSTGRES_DB}{POSTGRES_OPTIONS}\"\n",
    "DATABASE_URL = POSTGRES_CONNECTION_STRING\n",
    "nonurl = f\"dbname={POSTGRES_DB} user={POSTGRES_USER} password={POSTGRES_PASSWORD} host={POSTGRES_HOST} port={POSTGRES_PORT}\"\n",
    "dbconfig = {\n",
    "    \"POSTGRES_DB\": POSTGRES_DB,\n",
    "    \"POSTGRES_USER\": POSTGRES_USER,\n",
    "    \"POSTGRES_PASSWORD\": POSTGRES_PASSWORD,\n",
    "    \"POSTGRES_HOST\": POSTGRES_HOST,\n",
    "    \"POSTGRES_PORT\": POSTGRES_PORT,\n",
    "    \"DATABASE_URL\": DATABASE_URL,\n",
    "    \"POSTGRES_OPTIONS\": POSTGRES_OPTIONS,\n",
    "    \"nonurl\": nonurl,\n",
    "}\n",
    "print(dbconfig)"
   ]
  },
  {
   "cell_type": "code",
   "execution_count": null,
   "metadata": {},
   "outputs": [],
   "source": [
    "conn: psycopg.Connection\n",
    "with psycopg.connect(DATABASE_URL) as conn:\n",
    "    with conn.cursor() as cur:\n",
    "        # raw = \"SELECT * FROM pg_database;\"\n",
    "        # raw = \"SELECT * FROM pg_tables;\"\n",
    "        raw = \"SELECT * FROM accounts_user;\"\n",
    "        cur.execute(raw)\n",
    "        rows = cur.fetchall()\n",
    "        print(rows)"
   ]
  }
 ],
 "metadata": {
  "language_info": {
   "name": "python"
  }
 },
 "nbformat": 4,
 "nbformat_minor": 2
}
