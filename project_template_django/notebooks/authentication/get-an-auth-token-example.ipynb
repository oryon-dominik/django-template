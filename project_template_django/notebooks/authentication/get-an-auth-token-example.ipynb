{
 "cells": [
  {
   "cell_type": "markdown",
   "metadata": {},
   "source": [
    "# Production route for products route"
   ]
  },
  {
   "cell_type": "markdown",
   "metadata": {},
   "source": [
    "TLDR;  \n",
    "to bypass an authed route, post \n",
    "- with authentication header 'Authentication: Bearer token'\n",
    "- token got from a post to <host>/api/auth/token/ with the json payload {\"username\": \"emailaddress\", \"password\": \"secret\"}"
   ]
  },
  {
   "cell_type": "code",
   "execution_count": 6,
   "metadata": {},
   "outputs": [],
   "source": [
    "import httpx"
   ]
  },
  {
   "cell_type": "code",
   "execution_count": 7,
   "metadata": {},
   "outputs": [],
   "source": [
    "server = \"http://localhost:8000\"\n",
    "email = \"user@example.com\"\n",
    "password = \"secret\""
   ]
  },
  {
   "cell_type": "code",
   "execution_count": 8,
   "metadata": {},
   "outputs": [],
   "source": [
    "# Is the server alive?\n",
    "url = f\"{server}/api/\"\n",
    "r = httpx.get(url)\n",
    "assert r.json()['status'] == \"up and running\""
   ]
  },
  {
   "cell_type": "code",
   "execution_count": 9,
   "metadata": {},
   "outputs": [],
   "source": [
    "# Get the token\n",
    "url = f\"{server}/api/auth/token/\"\n",
    "r = httpx.post(url, json={\"email\": email, \"password\": password})"
   ]
  },
  {
   "cell_type": "code",
   "execution_count": 12,
   "metadata": {},
   "outputs": [],
   "source": [
    "# The authentication token is provided in the cookies.\n",
    "# The Refresh token is in the reponse-body.\n",
    "refresh_token = r.json()[\"refresh\"]\n",
    "authentication_cookies = {\"Authentication\": r.cookies['Authentication'].strip('\"')}"
   ]
  },
  {
   "cell_type": "code",
   "execution_count": 13,
   "metadata": {},
   "outputs": [],
   "source": [
    "r = httpx.post(f\"{server}/api/auth/token/verify/\", cookies=authentication_cookies)\n",
    "assert r.status_code == 200\n",
    "assert r.json() == {'detail': 'Token is valid.'}"
   ]
  },
  {
   "cell_type": "code",
   "execution_count": 14,
   "metadata": {},
   "outputs": [],
   "source": [
    "refresh_url = f\"{server}/api/auth/token/refresh/\"\n",
    "\n",
    "payload = {\"refresh\": refresh_token}\n",
    "r = httpx.post(refresh_url, json=payload, cookies=authentication_cookies)\n",
    "\n",
    "assert r.status_code == 200\n",
    "assert \"refresh\" in r.json()\n",
    "\n",
    "# Save new tokens\n",
    "refresh_token = r.json()[\"refresh\"]\n",
    "authentication_cookies = {\"Authentication\": r.cookies['Authentication'].strip('\"')}"
   ]
  },
  {
   "cell_type": "code",
   "execution_count": 15,
   "metadata": {},
   "outputs": [],
   "source": [
    "logout_url = f\"{server}/api/auth/token/logout/\"\n",
    "payload = {\"refresh\": refresh_token}\n",
    "\n",
    "r = httpx.post(logout_url, json=payload, cookies=authentication_cookies)\n",
    "\n",
    "assert r.status_code == 200\n",
    "assert r.json() == {'detail': 'Successfully logged out.', 'redirect': '/api/'}"
   ]
  }
 ],
 "metadata": {
  "kernelspec": {
   "display_name": "djangoauth-dGSBwlqO-py3.11",
   "language": "python",
   "name": "python3"
  },
  "language_info": {
   "codemirror_mode": {
    "name": "ipython",
    "version": 3
   },
   "file_extension": ".py",
   "mimetype": "text/x-python",
   "name": "python",
   "nbconvert_exporter": "python",
   "pygments_lexer": "ipython3",
   "version": "3.11.6"
  },
  "orig_nbformat": 4,
  "vscode": {
   "interpreter": {
    "hash": "b46c44dea17b411a6e7eef7cae3e827b42c0dab497623cb2945bebcab9fcd1a7"
   }
  }
 },
 "nbformat": 4,
 "nbformat_minor": 2
}
