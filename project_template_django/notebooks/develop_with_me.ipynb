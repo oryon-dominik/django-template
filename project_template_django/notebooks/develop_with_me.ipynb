{
 "cells": [
  {
   "attachments": {},
   "cell_type": "markdown",
   "metadata": {},
   "source": [
    "# Develop with me\n",
    "\n",
    "_a notebook to help you develop directly in this interactive notebook with access to all django models and stuff_  \n",
    "preconditions:  \n",
    "\n",
    "1. DJANGO_ALLOW_ASYNC_UNSAFE is set to true in the dotenvs ('envs/develop.env'). This is the default.\n",
    "\n",
    "2a. Just open this file in `vscode`\n",
    "2b. Run the notebook server in the background with `python mange.py shell_plus --notebook` or (if you aliased `commands.py`) just `cc nb`\n",
    "2c. Open this notebook in `vscode`  \n",
    "   -> Select Kernel  \n",
    "   -> Existing Jupyter Server  \n",
    "   -> Enter the URL of the running Jupyter server (the notebook server url you just started)  \n",
    "   -> Django Shell Plus  \n",
    "2d.\n",
    "   Alternatively, you can open this notebook in the `browser` directly.  \n",
    "   (not recommended, because you will loose all the pretty vscode IntelliSense features ;-P )\n",
    "\n",
    "3. Depeding on what method you used:\n",
    "   a: Execute the `next cell` (iterate to find `manage.py`) and manually setup Django.\n",
    "   b,c,d: Execute the `cell two positions ahead` (iterate until you are in `settings.ROOT_DIR`)\n",
    "    to `cd` into the project's `root dir` and have access to all the project modules\n"
   ]
  },
  {
   "cell_type": "code",
   "execution_count": null,
   "metadata": {},
   "outputs": [],
   "source": [
    "from pathlib import Path\n",
    "\n",
    "while not (Path.cwd() / \"manage.py\").exists():\n",
    "    parent = Path.cwd().parent\n",
    "    %cd $parent\n",
    "from core.setup import setup_django_settings\n",
    "# the envs set here might be overriden by editor-configs venv\n",
    "setup_django_settings(mode=\"develop\")"
   ]
  },
  {
   "cell_type": "code",
   "execution_count": null,
   "metadata": {},
   "outputs": [],
   "source": [
    "from pathlib import Path\n",
    "from django.conf import settings\n",
    "\n",
    "while not Path.cwd() == settings.ROOT_DIR:\n",
    "    parent = Path.cwd().parent\n",
    "    %cd $parent"
   ]
  },
  {
   "cell_type": "code",
   "execution_count": null,
   "metadata": {},
   "outputs": [],
   "source": [
    "# from config import ...\n",
    "# from apps.yourapp import ..."
   ]
  }
 ],
 "metadata": {
  "language_info": {
   "name": "python"
  },
  "orig_nbformat": 4
 },
 "nbformat": 4,
 "nbformat_minor": 2
}
