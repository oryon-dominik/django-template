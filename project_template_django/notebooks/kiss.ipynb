{
 "cells": [
  {
   "attachments": {},
   "cell_type": "markdown",
   "metadata": {},
   "source": [
    "# Keep it short and simple - debugging TLDR;\n",
    "Includes module level imports and all django-settings available, to jumpstart into development.\n",
    "\n",
    "Copy & paste me to your own directory."
   ]
  },
  {
   "cell_type": "code",
   "execution_count": null,
   "metadata": {},
   "outputs": [],
   "source": [
    "from pathlib import Path\n",
    "\n",
    "while not (Path.cwd() / \"manage.py\").exists():\n",
    "    # Walk up the directory tree until I find manage.py, this is the project root. Make it CWD.\n",
    "    parent = Path.cwd().parent\n",
    "    %cd $parent\n",
    "\n",
    "from core.setup import setup_django_settings\n",
    "\n",
    "MODE = 'develop'  # Available: 'develop', 'test', 'production'.\n",
    "\n",
    "# Manually setup Django settings, to freely use Django ORM, etc.\n",
    "setup_django_settings(mode=MODE)\n",
    "\n",
    "# from rich import print\n",
    "# from django.conf import settings\n",
    "# from config import ...\n",
    "# from apps.yourapp import ..."
   ]
  },
  {
   "cell_type": "code",
   "execution_count": null,
   "metadata": {},
   "outputs": [],
   "source": []
  }
 ],
 "metadata": {
  "kernelspec": {
   "display_name": "bausep-5l_wtiWs-py3.11",
   "language": "python",
   "name": "python3"
  },
  "language_info": {
   "codemirror_mode": {
    "name": "ipython",
    "version": 3
   },
   "file_extension": ".py",
   "mimetype": "text/x-python",
   "name": "python",
   "nbconvert_exporter": "python",
   "pygments_lexer": "ipython3",
   "version": "3.11.1"
  },
  "orig_nbformat": 4
 },
 "nbformat": 4,
 "nbformat_minor": 2
}
