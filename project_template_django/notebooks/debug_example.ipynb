{
 "cells": [
  {
   "attachments": {},
   "cell_type": "markdown",
   "metadata": {},
   "source": [
    "# example debugging\n",
    "incl. available module level imports and django-settings\n"
   ]
  },
  {
   "cell_type": "code",
   "execution_count": null,
   "metadata": {},
   "outputs": [],
   "source": [
    "from pathlib import Path\n",
    "\n",
    "while not (Path.cwd() / \"manage.py\").exists():\n",
    "    parent = Path.cwd().parent\n",
    "    %cd $parent\n",
    "from core.setup import setup_django_settings"
   ]
  },
  {
   "cell_type": "code",
   "execution_count": null,
   "metadata": {},
   "outputs": [],
   "source": [
    "setup_django_settings(mode='develop')"
   ]
  },
  {
   "cell_type": "code",
   "execution_count": null,
   "metadata": {},
   "outputs": [],
   "source": [
    "# from rich import print\n",
    "# from django.conf import settings\n",
    "# from config import ...\n",
    "# from apps.yourapp import ..."
   ]
  }
 ],
 "metadata": {
  "kernelspec": {
   "display_name": "bausep-5l_wtiWs-py3.11",
   "language": "python",
   "name": "python3"
  },
  "language_info": {
   "codemirror_mode": {
    "name": "ipython",
    "version": 3
   },
   "file_extension": ".py",
   "mimetype": "text/x-python",
   "name": "python",
   "nbconvert_exporter": "python",
   "pygments_lexer": "ipython3",
   "version": "3.11.1"
  },
  "orig_nbformat": 4
 },
 "nbformat": 4,
 "nbformat_minor": 2
}
