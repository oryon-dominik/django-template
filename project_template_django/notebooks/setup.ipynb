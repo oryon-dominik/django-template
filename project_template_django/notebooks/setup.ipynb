{
 "cells": [
  {
   "cell_type": "markdown",
   "metadata": {},
   "source": [
    "#### Setup initial data to be ready to dev..\n",
    "-> User  \n",
    "...  "
   ]
  },
  {
   "cell_type": "code",
   "execution_count": null,
   "metadata": {},
   "outputs": [],
   "source": [
    "from pathlib import Path\n",
    "\n",
    "while not (Path.cwd() / \"manage.py\").exists():\n",
    "    parent = Path.cwd().parent\n",
    "    %cd $parent\n",
    "\n",
    "from core.setup import setup_django_settings\n",
    "\n",
    "MODE = 'develop'\n",
    "setup_django_settings(mode=MODE)\n",
    "\n",
    "from rich import print\n",
    "from django.conf import settings"
   ]
  },
  {
   "cell_type": "code",
   "execution_count": null,
   "metadata": {},
   "outputs": [],
   "source": [
    "# Create user for testing, if it does not exist.\n",
    "from core.accounts.models import User\n",
    "\n",
    "email = \"user@example.com\"\n",
    "password = \"secret\"\n",
    "\n",
    "try:\n",
    "    user = User.objects.get(email=email)\n",
    "except User.DoesNotExist:\n",
    "    user = User(email=email)\n",
    "    user.is_active = True\n",
    "    user.set_password(password)\n",
    "    user.save()\n",
    "    print(f\"Created user {user=}\")\n",
    "\n",
    "assert user.email == email\n",
    "assert user.check_password(password)"
   ]
  }
 ],
 "metadata": {
  "language_info": {
   "name": "python"
  }
 },
 "nbformat": 4,
 "nbformat_minor": 2
}
